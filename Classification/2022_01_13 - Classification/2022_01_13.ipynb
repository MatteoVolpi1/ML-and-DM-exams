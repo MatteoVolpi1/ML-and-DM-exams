{
  "nbformat": 4,
  "nbformat_minor": 0,
  "metadata": {
    "colab": {
      "provenance": []
    },
    "kernelspec": {
      "name": "python3",
      "display_name": "Python 3"
    },
    "language_info": {
      "name": "python"
    }
  },
  "cells": [
    {
      "cell_type": "markdown",
      "source": [
        "#2022-01-13 Exam: Classification (data cleaning/inspection, cross validation)"
      ],
      "metadata": {
        "id": "ejdnSO1V02uf"
      }
    },
    {
      "cell_type": "markdown",
      "source": [
        "The notebook must include appropriate comments and must operate as follows:\n",
        "1. Load the data and explore them, showing size, structure and histograms\n",
        "of numeric data; show the histogram of the frequencies of the class labels, contained in the “language” (4pt)\n",
        "2. Drop the rows with NaN values, if any, show the shape of the dataset\n",
        "after this cleaning (4pt)\n",
        "3. tune the hyper–parameters of Model1 with Cross Validation on the\n",
        "training set, optimize for recall_macro (5pt)\n",
        "4. produce a classification report for Model1 on the test set (2pt)\n",
        "5. produce the confusion matrix for Model1 on the test set (2pt)\n",
        "6. tune the hyper–parameters of Model2 with Cross Validation on the\n",
        "training set, optimize for recall_macro (5pt)\n",
        "7. produce a classification report for Model2 on the test set (1pt)\n",
        "8. produce the confusion matrix for Model2 on the test set (1pt)\n"
      ],
      "metadata": {
        "id": "At-OucdI1EYV"
      }
    },
    {
      "cell_type": "code",
      "execution_count": 59,
      "metadata": {
        "id": "YmcEUfUn0kSu"
      },
      "outputs": [],
      "source": [
        "import pandas as pd\n",
        "import matplotlib.pyplot as plt\n",
        "import numpy as np\n",
        "import seaborn as sns\n",
        "import warnings\n",
        "warnings.filterwarnings(action='ignore')\n",
        "\n",
        "url = '/content/exam2022_01_13.csv'\n",
        "df = pd.read_csv(url)\n",
        "\n",
        "random_state = 42\n",
        "train_size = 0.67"
      ]
    },
    {
      "cell_type": "markdown",
      "source": [
        "##1. Load the data and explore them, showing size, structure and histograms of numeric data; show the histogram of the frequencies of the class labels, contained in the “language” (4pt)"
      ],
      "metadata": {
        "id": "iD67dHiz29qV"
      }
    },
    {
      "cell_type": "code",
      "source": [
        "print('Size of data: {:6.2f}'.format(df.size))\n",
        "df.head()"
      ],
      "metadata": {
        "colab": {
          "base_uri": "https://localhost:8080/",
          "height": 223
        },
        "id": "iLwoTYuD2_ul",
        "outputId": "59c2db8b-675b-4b9f-94b6-6964671b66b6"
      },
      "execution_count": 60,
      "outputs": [
        {
          "output_type": "stream",
          "name": "stdout",
          "text": [
            "Size of data: 4277.00\n"
          ]
        },
        {
          "output_type": "execute_result",
          "data": {
            "text/plain": [
              "  language         X1        X2        X3         X4        X5         X6  \\\n",
              "0       ES   7.071476 -6.512900  7.650800  11.150783 -7.657312  12.484021   \n",
              "1       ES  10.982967 -5.157445  3.952060  11.529381 -7.638047  12.136098   \n",
              "2       ES   7.827108 -5.477472  7.816257   9.187592 -7.172511  11.715299   \n",
              "3       ES   6.744083 -5.688920  6.546789   9.000183 -6.924963  11.710766   \n",
              "4       ES   5.836843 -5.326557  7.472265   8.847440 -6.773244  12.677218   \n",
              "\n",
              "          X7        X8        X9       X10       X11       X12  \n",
              "0 -11.709772  3.426596  1.462715 -2.812753  0.866538 -5.244274  \n",
              "1 -12.036247  3.491943  0.595441 -4.508811  2.332147 -6.221857  \n",
              "2 -13.847214  4.574075 -1.687559 -7.204041 -0.011847 -6.463144  \n",
              "3 -12.374388  6.169879 -0.544747 -6.019237  1.358559 -6.356441  \n",
              "4 -12.315061  4.416344  0.193500 -3.644812  2.151239 -6.816310  "
            ],
            "text/html": [
              "\n",
              "  <div id=\"df-0385b9e6-07cb-4b5e-8adb-211331cc0591\" class=\"colab-df-container\">\n",
              "    <div>\n",
              "<style scoped>\n",
              "    .dataframe tbody tr th:only-of-type {\n",
              "        vertical-align: middle;\n",
              "    }\n",
              "\n",
              "    .dataframe tbody tr th {\n",
              "        vertical-align: top;\n",
              "    }\n",
              "\n",
              "    .dataframe thead th {\n",
              "        text-align: right;\n",
              "    }\n",
              "</style>\n",
              "<table border=\"1\" class=\"dataframe\">\n",
              "  <thead>\n",
              "    <tr style=\"text-align: right;\">\n",
              "      <th></th>\n",
              "      <th>language</th>\n",
              "      <th>X1</th>\n",
              "      <th>X2</th>\n",
              "      <th>X3</th>\n",
              "      <th>X4</th>\n",
              "      <th>X5</th>\n",
              "      <th>X6</th>\n",
              "      <th>X7</th>\n",
              "      <th>X8</th>\n",
              "      <th>X9</th>\n",
              "      <th>X10</th>\n",
              "      <th>X11</th>\n",
              "      <th>X12</th>\n",
              "    </tr>\n",
              "  </thead>\n",
              "  <tbody>\n",
              "    <tr>\n",
              "      <th>0</th>\n",
              "      <td>ES</td>\n",
              "      <td>7.071476</td>\n",
              "      <td>-6.512900</td>\n",
              "      <td>7.650800</td>\n",
              "      <td>11.150783</td>\n",
              "      <td>-7.657312</td>\n",
              "      <td>12.484021</td>\n",
              "      <td>-11.709772</td>\n",
              "      <td>3.426596</td>\n",
              "      <td>1.462715</td>\n",
              "      <td>-2.812753</td>\n",
              "      <td>0.866538</td>\n",
              "      <td>-5.244274</td>\n",
              "    </tr>\n",
              "    <tr>\n",
              "      <th>1</th>\n",
              "      <td>ES</td>\n",
              "      <td>10.982967</td>\n",
              "      <td>-5.157445</td>\n",
              "      <td>3.952060</td>\n",
              "      <td>11.529381</td>\n",
              "      <td>-7.638047</td>\n",
              "      <td>12.136098</td>\n",
              "      <td>-12.036247</td>\n",
              "      <td>3.491943</td>\n",
              "      <td>0.595441</td>\n",
              "      <td>-4.508811</td>\n",
              "      <td>2.332147</td>\n",
              "      <td>-6.221857</td>\n",
              "    </tr>\n",
              "    <tr>\n",
              "      <th>2</th>\n",
              "      <td>ES</td>\n",
              "      <td>7.827108</td>\n",
              "      <td>-5.477472</td>\n",
              "      <td>7.816257</td>\n",
              "      <td>9.187592</td>\n",
              "      <td>-7.172511</td>\n",
              "      <td>11.715299</td>\n",
              "      <td>-13.847214</td>\n",
              "      <td>4.574075</td>\n",
              "      <td>-1.687559</td>\n",
              "      <td>-7.204041</td>\n",
              "      <td>-0.011847</td>\n",
              "      <td>-6.463144</td>\n",
              "    </tr>\n",
              "    <tr>\n",
              "      <th>3</th>\n",
              "      <td>ES</td>\n",
              "      <td>6.744083</td>\n",
              "      <td>-5.688920</td>\n",
              "      <td>6.546789</td>\n",
              "      <td>9.000183</td>\n",
              "      <td>-6.924963</td>\n",
              "      <td>11.710766</td>\n",
              "      <td>-12.374388</td>\n",
              "      <td>6.169879</td>\n",
              "      <td>-0.544747</td>\n",
              "      <td>-6.019237</td>\n",
              "      <td>1.358559</td>\n",
              "      <td>-6.356441</td>\n",
              "    </tr>\n",
              "    <tr>\n",
              "      <th>4</th>\n",
              "      <td>ES</td>\n",
              "      <td>5.836843</td>\n",
              "      <td>-5.326557</td>\n",
              "      <td>7.472265</td>\n",
              "      <td>8.847440</td>\n",
              "      <td>-6.773244</td>\n",
              "      <td>12.677218</td>\n",
              "      <td>-12.315061</td>\n",
              "      <td>4.416344</td>\n",
              "      <td>0.193500</td>\n",
              "      <td>-3.644812</td>\n",
              "      <td>2.151239</td>\n",
              "      <td>-6.816310</td>\n",
              "    </tr>\n",
              "  </tbody>\n",
              "</table>\n",
              "</div>\n",
              "    <div class=\"colab-df-buttons\">\n",
              "\n",
              "  <div class=\"colab-df-container\">\n",
              "    <button class=\"colab-df-convert\" onclick=\"convertToInteractive('df-0385b9e6-07cb-4b5e-8adb-211331cc0591')\"\n",
              "            title=\"Convert this dataframe to an interactive table.\"\n",
              "            style=\"display:none;\">\n",
              "\n",
              "  <svg xmlns=\"http://www.w3.org/2000/svg\" height=\"24px\" viewBox=\"0 -960 960 960\">\n",
              "    <path d=\"M120-120v-720h720v720H120Zm60-500h600v-160H180v160Zm220 220h160v-160H400v160Zm0 220h160v-160H400v160ZM180-400h160v-160H180v160Zm440 0h160v-160H620v160ZM180-180h160v-160H180v160Zm440 0h160v-160H620v160Z\"/>\n",
              "  </svg>\n",
              "    </button>\n",
              "\n",
              "  <style>\n",
              "    .colab-df-container {\n",
              "      display:flex;\n",
              "      gap: 12px;\n",
              "    }\n",
              "\n",
              "    .colab-df-convert {\n",
              "      background-color: #E8F0FE;\n",
              "      border: none;\n",
              "      border-radius: 50%;\n",
              "      cursor: pointer;\n",
              "      display: none;\n",
              "      fill: #1967D2;\n",
              "      height: 32px;\n",
              "      padding: 0 0 0 0;\n",
              "      width: 32px;\n",
              "    }\n",
              "\n",
              "    .colab-df-convert:hover {\n",
              "      background-color: #E2EBFA;\n",
              "      box-shadow: 0px 1px 2px rgba(60, 64, 67, 0.3), 0px 1px 3px 1px rgba(60, 64, 67, 0.15);\n",
              "      fill: #174EA6;\n",
              "    }\n",
              "\n",
              "    .colab-df-buttons div {\n",
              "      margin-bottom: 4px;\n",
              "    }\n",
              "\n",
              "    [theme=dark] .colab-df-convert {\n",
              "      background-color: #3B4455;\n",
              "      fill: #D2E3FC;\n",
              "    }\n",
              "\n",
              "    [theme=dark] .colab-df-convert:hover {\n",
              "      background-color: #434B5C;\n",
              "      box-shadow: 0px 1px 3px 1px rgba(0, 0, 0, 0.15);\n",
              "      filter: drop-shadow(0px 1px 2px rgba(0, 0, 0, 0.3));\n",
              "      fill: #FFFFFF;\n",
              "    }\n",
              "  </style>\n",
              "\n",
              "    <script>\n",
              "      const buttonEl =\n",
              "        document.querySelector('#df-0385b9e6-07cb-4b5e-8adb-211331cc0591 button.colab-df-convert');\n",
              "      buttonEl.style.display =\n",
              "        google.colab.kernel.accessAllowed ? 'block' : 'none';\n",
              "\n",
              "      async function convertToInteractive(key) {\n",
              "        const element = document.querySelector('#df-0385b9e6-07cb-4b5e-8adb-211331cc0591');\n",
              "        const dataTable =\n",
              "          await google.colab.kernel.invokeFunction('convertToInteractive',\n",
              "                                                    [key], {});\n",
              "        if (!dataTable) return;\n",
              "\n",
              "        const docLinkHtml = 'Like what you see? Visit the ' +\n",
              "          '<a target=\"_blank\" href=https://colab.research.google.com/notebooks/data_table.ipynb>data table notebook</a>'\n",
              "          + ' to learn more about interactive tables.';\n",
              "        element.innerHTML = '';\n",
              "        dataTable['output_type'] = 'display_data';\n",
              "        await google.colab.output.renderOutput(dataTable, element);\n",
              "        const docLink = document.createElement('div');\n",
              "        docLink.innerHTML = docLinkHtml;\n",
              "        element.appendChild(docLink);\n",
              "      }\n",
              "    </script>\n",
              "  </div>\n",
              "\n",
              "\n",
              "<div id=\"df-18b85fbe-c264-40a5-953e-62e71ae4a897\">\n",
              "  <button class=\"colab-df-quickchart\" onclick=\"quickchart('df-18b85fbe-c264-40a5-953e-62e71ae4a897')\"\n",
              "            title=\"Suggest charts\"\n",
              "            style=\"display:none;\">\n",
              "\n",
              "<svg xmlns=\"http://www.w3.org/2000/svg\" height=\"24px\"viewBox=\"0 0 24 24\"\n",
              "     width=\"24px\">\n",
              "    <g>\n",
              "        <path d=\"M19 3H5c-1.1 0-2 .9-2 2v14c0 1.1.9 2 2 2h14c1.1 0 2-.9 2-2V5c0-1.1-.9-2-2-2zM9 17H7v-7h2v7zm4 0h-2V7h2v10zm4 0h-2v-4h2v4z\"/>\n",
              "    </g>\n",
              "</svg>\n",
              "  </button>\n",
              "\n",
              "<style>\n",
              "  .colab-df-quickchart {\n",
              "      --bg-color: #E8F0FE;\n",
              "      --fill-color: #1967D2;\n",
              "      --hover-bg-color: #E2EBFA;\n",
              "      --hover-fill-color: #174EA6;\n",
              "      --disabled-fill-color: #AAA;\n",
              "      --disabled-bg-color: #DDD;\n",
              "  }\n",
              "\n",
              "  [theme=dark] .colab-df-quickchart {\n",
              "      --bg-color: #3B4455;\n",
              "      --fill-color: #D2E3FC;\n",
              "      --hover-bg-color: #434B5C;\n",
              "      --hover-fill-color: #FFFFFF;\n",
              "      --disabled-bg-color: #3B4455;\n",
              "      --disabled-fill-color: #666;\n",
              "  }\n",
              "\n",
              "  .colab-df-quickchart {\n",
              "    background-color: var(--bg-color);\n",
              "    border: none;\n",
              "    border-radius: 50%;\n",
              "    cursor: pointer;\n",
              "    display: none;\n",
              "    fill: var(--fill-color);\n",
              "    height: 32px;\n",
              "    padding: 0;\n",
              "    width: 32px;\n",
              "  }\n",
              "\n",
              "  .colab-df-quickchart:hover {\n",
              "    background-color: var(--hover-bg-color);\n",
              "    box-shadow: 0 1px 2px rgba(60, 64, 67, 0.3), 0 1px 3px 1px rgba(60, 64, 67, 0.15);\n",
              "    fill: var(--button-hover-fill-color);\n",
              "  }\n",
              "\n",
              "  .colab-df-quickchart-complete:disabled,\n",
              "  .colab-df-quickchart-complete:disabled:hover {\n",
              "    background-color: var(--disabled-bg-color);\n",
              "    fill: var(--disabled-fill-color);\n",
              "    box-shadow: none;\n",
              "  }\n",
              "\n",
              "  .colab-df-spinner {\n",
              "    border: 2px solid var(--fill-color);\n",
              "    border-color: transparent;\n",
              "    border-bottom-color: var(--fill-color);\n",
              "    animation:\n",
              "      spin 1s steps(1) infinite;\n",
              "  }\n",
              "\n",
              "  @keyframes spin {\n",
              "    0% {\n",
              "      border-color: transparent;\n",
              "      border-bottom-color: var(--fill-color);\n",
              "      border-left-color: var(--fill-color);\n",
              "    }\n",
              "    20% {\n",
              "      border-color: transparent;\n",
              "      border-left-color: var(--fill-color);\n",
              "      border-top-color: var(--fill-color);\n",
              "    }\n",
              "    30% {\n",
              "      border-color: transparent;\n",
              "      border-left-color: var(--fill-color);\n",
              "      border-top-color: var(--fill-color);\n",
              "      border-right-color: var(--fill-color);\n",
              "    }\n",
              "    40% {\n",
              "      border-color: transparent;\n",
              "      border-right-color: var(--fill-color);\n",
              "      border-top-color: var(--fill-color);\n",
              "    }\n",
              "    60% {\n",
              "      border-color: transparent;\n",
              "      border-right-color: var(--fill-color);\n",
              "    }\n",
              "    80% {\n",
              "      border-color: transparent;\n",
              "      border-right-color: var(--fill-color);\n",
              "      border-bottom-color: var(--fill-color);\n",
              "    }\n",
              "    90% {\n",
              "      border-color: transparent;\n",
              "      border-bottom-color: var(--fill-color);\n",
              "    }\n",
              "  }\n",
              "</style>\n",
              "\n",
              "  <script>\n",
              "    async function quickchart(key) {\n",
              "      const quickchartButtonEl =\n",
              "        document.querySelector('#' + key + ' button');\n",
              "      quickchartButtonEl.disabled = true;  // To prevent multiple clicks.\n",
              "      quickchartButtonEl.classList.add('colab-df-spinner');\n",
              "      try {\n",
              "        const charts = await google.colab.kernel.invokeFunction(\n",
              "            'suggestCharts', [key], {});\n",
              "      } catch (error) {\n",
              "        console.error('Error during call to suggestCharts:', error);\n",
              "      }\n",
              "      quickchartButtonEl.classList.remove('colab-df-spinner');\n",
              "      quickchartButtonEl.classList.add('colab-df-quickchart-complete');\n",
              "    }\n",
              "    (() => {\n",
              "      let quickchartButtonEl =\n",
              "        document.querySelector('#df-18b85fbe-c264-40a5-953e-62e71ae4a897 button');\n",
              "      quickchartButtonEl.style.display =\n",
              "        google.colab.kernel.accessAllowed ? 'block' : 'none';\n",
              "    })();\n",
              "  </script>\n",
              "</div>\n",
              "    </div>\n",
              "  </div>\n"
            ]
          },
          "metadata": {},
          "execution_count": 60
        }
      ]
    },
    {
      "cell_type": "code",
      "source": [
        "df.describe()"
      ],
      "metadata": {
        "colab": {
          "base_uri": "https://localhost:8080/",
          "height": 320
        },
        "id": "fDE0g7744FNk",
        "outputId": "008078e9-3b55-4c68-8b2b-fc5828408a55"
      },
      "execution_count": 61,
      "outputs": [
        {
          "output_type": "execute_result",
          "data": {
            "text/plain": [
              "               X1          X2          X3          X4          X5          X6  \\\n",
              "count  329.000000  329.000000  329.000000  329.000000  329.000000  329.000000   \n",
              "mean     5.645227   -4.270814    2.635319    7.200207   -5.648733    9.810236   \n",
              "std      5.105302    3.514350    3.635323    4.310095    4.596180    3.624654   \n",
              "min     -6.067831  -14.972962   -6.186583   -8.844231  -15.656596   -3.528964   \n",
              "25%      2.065603   -6.515764    0.137042    4.700874   -8.417684    8.643563   \n",
              "50%      4.954206   -4.252512    2.029268    7.804680   -6.786670   10.379330   \n",
              "75%      9.793648   -1.560250    4.178026   10.129165   -4.463308   11.784360   \n",
              "max     17.749851    3.570765   17.066487   16.178942    7.912809   21.445837   \n",
              "\n",
              "               X7          X8          X9         X10         X11         X12  \n",
              "count  329.000000  329.000000  329.000000  321.000000  329.000000  329.000000  \n",
              "mean    -9.408053    5.117328   -1.229432   -2.411215    2.430833   -3.980415  \n",
              "std      2.484117    2.650608    3.634849    5.027840    3.478467    2.985879  \n",
              "min    -15.365665   -2.873862  -15.510974  -11.429178  -13.664104  -13.724103  \n",
              "25%    -11.120860    3.482167   -1.749082   -5.090180    1.197789   -5.941409  \n",
              "50%     -9.710399    4.843103   -0.389970   -3.327718    3.169703   -4.374334  \n",
              "75%     -7.989370    6.588931    0.779993   -1.512083    4.673452   -2.191658  \n",
              "max     -0.424033   13.846083    4.789989   16.326455    9.166066    5.259430  "
            ],
            "text/html": [
              "\n",
              "  <div id=\"df-00f15200-be67-480d-bc09-26e911c262de\" class=\"colab-df-container\">\n",
              "    <div>\n",
              "<style scoped>\n",
              "    .dataframe tbody tr th:only-of-type {\n",
              "        vertical-align: middle;\n",
              "    }\n",
              "\n",
              "    .dataframe tbody tr th {\n",
              "        vertical-align: top;\n",
              "    }\n",
              "\n",
              "    .dataframe thead th {\n",
              "        text-align: right;\n",
              "    }\n",
              "</style>\n",
              "<table border=\"1\" class=\"dataframe\">\n",
              "  <thead>\n",
              "    <tr style=\"text-align: right;\">\n",
              "      <th></th>\n",
              "      <th>X1</th>\n",
              "      <th>X2</th>\n",
              "      <th>X3</th>\n",
              "      <th>X4</th>\n",
              "      <th>X5</th>\n",
              "      <th>X6</th>\n",
              "      <th>X7</th>\n",
              "      <th>X8</th>\n",
              "      <th>X9</th>\n",
              "      <th>X10</th>\n",
              "      <th>X11</th>\n",
              "      <th>X12</th>\n",
              "    </tr>\n",
              "  </thead>\n",
              "  <tbody>\n",
              "    <tr>\n",
              "      <th>count</th>\n",
              "      <td>329.000000</td>\n",
              "      <td>329.000000</td>\n",
              "      <td>329.000000</td>\n",
              "      <td>329.000000</td>\n",
              "      <td>329.000000</td>\n",
              "      <td>329.000000</td>\n",
              "      <td>329.000000</td>\n",
              "      <td>329.000000</td>\n",
              "      <td>329.000000</td>\n",
              "      <td>321.000000</td>\n",
              "      <td>329.000000</td>\n",
              "      <td>329.000000</td>\n",
              "    </tr>\n",
              "    <tr>\n",
              "      <th>mean</th>\n",
              "      <td>5.645227</td>\n",
              "      <td>-4.270814</td>\n",
              "      <td>2.635319</td>\n",
              "      <td>7.200207</td>\n",
              "      <td>-5.648733</td>\n",
              "      <td>9.810236</td>\n",
              "      <td>-9.408053</td>\n",
              "      <td>5.117328</td>\n",
              "      <td>-1.229432</td>\n",
              "      <td>-2.411215</td>\n",
              "      <td>2.430833</td>\n",
              "      <td>-3.980415</td>\n",
              "    </tr>\n",
              "    <tr>\n",
              "      <th>std</th>\n",
              "      <td>5.105302</td>\n",
              "      <td>3.514350</td>\n",
              "      <td>3.635323</td>\n",
              "      <td>4.310095</td>\n",
              "      <td>4.596180</td>\n",
              "      <td>3.624654</td>\n",
              "      <td>2.484117</td>\n",
              "      <td>2.650608</td>\n",
              "      <td>3.634849</td>\n",
              "      <td>5.027840</td>\n",
              "      <td>3.478467</td>\n",
              "      <td>2.985879</td>\n",
              "    </tr>\n",
              "    <tr>\n",
              "      <th>min</th>\n",
              "      <td>-6.067831</td>\n",
              "      <td>-14.972962</td>\n",
              "      <td>-6.186583</td>\n",
              "      <td>-8.844231</td>\n",
              "      <td>-15.656596</td>\n",
              "      <td>-3.528964</td>\n",
              "      <td>-15.365665</td>\n",
              "      <td>-2.873862</td>\n",
              "      <td>-15.510974</td>\n",
              "      <td>-11.429178</td>\n",
              "      <td>-13.664104</td>\n",
              "      <td>-13.724103</td>\n",
              "    </tr>\n",
              "    <tr>\n",
              "      <th>25%</th>\n",
              "      <td>2.065603</td>\n",
              "      <td>-6.515764</td>\n",
              "      <td>0.137042</td>\n",
              "      <td>4.700874</td>\n",
              "      <td>-8.417684</td>\n",
              "      <td>8.643563</td>\n",
              "      <td>-11.120860</td>\n",
              "      <td>3.482167</td>\n",
              "      <td>-1.749082</td>\n",
              "      <td>-5.090180</td>\n",
              "      <td>1.197789</td>\n",
              "      <td>-5.941409</td>\n",
              "    </tr>\n",
              "    <tr>\n",
              "      <th>50%</th>\n",
              "      <td>4.954206</td>\n",
              "      <td>-4.252512</td>\n",
              "      <td>2.029268</td>\n",
              "      <td>7.804680</td>\n",
              "      <td>-6.786670</td>\n",
              "      <td>10.379330</td>\n",
              "      <td>-9.710399</td>\n",
              "      <td>4.843103</td>\n",
              "      <td>-0.389970</td>\n",
              "      <td>-3.327718</td>\n",
              "      <td>3.169703</td>\n",
              "      <td>-4.374334</td>\n",
              "    </tr>\n",
              "    <tr>\n",
              "      <th>75%</th>\n",
              "      <td>9.793648</td>\n",
              "      <td>-1.560250</td>\n",
              "      <td>4.178026</td>\n",
              "      <td>10.129165</td>\n",
              "      <td>-4.463308</td>\n",
              "      <td>11.784360</td>\n",
              "      <td>-7.989370</td>\n",
              "      <td>6.588931</td>\n",
              "      <td>0.779993</td>\n",
              "      <td>-1.512083</td>\n",
              "      <td>4.673452</td>\n",
              "      <td>-2.191658</td>\n",
              "    </tr>\n",
              "    <tr>\n",
              "      <th>max</th>\n",
              "      <td>17.749851</td>\n",
              "      <td>3.570765</td>\n",
              "      <td>17.066487</td>\n",
              "      <td>16.178942</td>\n",
              "      <td>7.912809</td>\n",
              "      <td>21.445837</td>\n",
              "      <td>-0.424033</td>\n",
              "      <td>13.846083</td>\n",
              "      <td>4.789989</td>\n",
              "      <td>16.326455</td>\n",
              "      <td>9.166066</td>\n",
              "      <td>5.259430</td>\n",
              "    </tr>\n",
              "  </tbody>\n",
              "</table>\n",
              "</div>\n",
              "    <div class=\"colab-df-buttons\">\n",
              "\n",
              "  <div class=\"colab-df-container\">\n",
              "    <button class=\"colab-df-convert\" onclick=\"convertToInteractive('df-00f15200-be67-480d-bc09-26e911c262de')\"\n",
              "            title=\"Convert this dataframe to an interactive table.\"\n",
              "            style=\"display:none;\">\n",
              "\n",
              "  <svg xmlns=\"http://www.w3.org/2000/svg\" height=\"24px\" viewBox=\"0 -960 960 960\">\n",
              "    <path d=\"M120-120v-720h720v720H120Zm60-500h600v-160H180v160Zm220 220h160v-160H400v160Zm0 220h160v-160H400v160ZM180-400h160v-160H180v160Zm440 0h160v-160H620v160ZM180-180h160v-160H180v160Zm440 0h160v-160H620v160Z\"/>\n",
              "  </svg>\n",
              "    </button>\n",
              "\n",
              "  <style>\n",
              "    .colab-df-container {\n",
              "      display:flex;\n",
              "      gap: 12px;\n",
              "    }\n",
              "\n",
              "    .colab-df-convert {\n",
              "      background-color: #E8F0FE;\n",
              "      border: none;\n",
              "      border-radius: 50%;\n",
              "      cursor: pointer;\n",
              "      display: none;\n",
              "      fill: #1967D2;\n",
              "      height: 32px;\n",
              "      padding: 0 0 0 0;\n",
              "      width: 32px;\n",
              "    }\n",
              "\n",
              "    .colab-df-convert:hover {\n",
              "      background-color: #E2EBFA;\n",
              "      box-shadow: 0px 1px 2px rgba(60, 64, 67, 0.3), 0px 1px 3px 1px rgba(60, 64, 67, 0.15);\n",
              "      fill: #174EA6;\n",
              "    }\n",
              "\n",
              "    .colab-df-buttons div {\n",
              "      margin-bottom: 4px;\n",
              "    }\n",
              "\n",
              "    [theme=dark] .colab-df-convert {\n",
              "      background-color: #3B4455;\n",
              "      fill: #D2E3FC;\n",
              "    }\n",
              "\n",
              "    [theme=dark] .colab-df-convert:hover {\n",
              "      background-color: #434B5C;\n",
              "      box-shadow: 0px 1px 3px 1px rgba(0, 0, 0, 0.15);\n",
              "      filter: drop-shadow(0px 1px 2px rgba(0, 0, 0, 0.3));\n",
              "      fill: #FFFFFF;\n",
              "    }\n",
              "  </style>\n",
              "\n",
              "    <script>\n",
              "      const buttonEl =\n",
              "        document.querySelector('#df-00f15200-be67-480d-bc09-26e911c262de button.colab-df-convert');\n",
              "      buttonEl.style.display =\n",
              "        google.colab.kernel.accessAllowed ? 'block' : 'none';\n",
              "\n",
              "      async function convertToInteractive(key) {\n",
              "        const element = document.querySelector('#df-00f15200-be67-480d-bc09-26e911c262de');\n",
              "        const dataTable =\n",
              "          await google.colab.kernel.invokeFunction('convertToInteractive',\n",
              "                                                    [key], {});\n",
              "        if (!dataTable) return;\n",
              "\n",
              "        const docLinkHtml = 'Like what you see? Visit the ' +\n",
              "          '<a target=\"_blank\" href=https://colab.research.google.com/notebooks/data_table.ipynb>data table notebook</a>'\n",
              "          + ' to learn more about interactive tables.';\n",
              "        element.innerHTML = '';\n",
              "        dataTable['output_type'] = 'display_data';\n",
              "        await google.colab.output.renderOutput(dataTable, element);\n",
              "        const docLink = document.createElement('div');\n",
              "        docLink.innerHTML = docLinkHtml;\n",
              "        element.appendChild(docLink);\n",
              "      }\n",
              "    </script>\n",
              "  </div>\n",
              "\n",
              "\n",
              "<div id=\"df-96ab8bae-158b-4da4-aaa8-853f0e672286\">\n",
              "  <button class=\"colab-df-quickchart\" onclick=\"quickchart('df-96ab8bae-158b-4da4-aaa8-853f0e672286')\"\n",
              "            title=\"Suggest charts\"\n",
              "            style=\"display:none;\">\n",
              "\n",
              "<svg xmlns=\"http://www.w3.org/2000/svg\" height=\"24px\"viewBox=\"0 0 24 24\"\n",
              "     width=\"24px\">\n",
              "    <g>\n",
              "        <path d=\"M19 3H5c-1.1 0-2 .9-2 2v14c0 1.1.9 2 2 2h14c1.1 0 2-.9 2-2V5c0-1.1-.9-2-2-2zM9 17H7v-7h2v7zm4 0h-2V7h2v10zm4 0h-2v-4h2v4z\"/>\n",
              "    </g>\n",
              "</svg>\n",
              "  </button>\n",
              "\n",
              "<style>\n",
              "  .colab-df-quickchart {\n",
              "      --bg-color: #E8F0FE;\n",
              "      --fill-color: #1967D2;\n",
              "      --hover-bg-color: #E2EBFA;\n",
              "      --hover-fill-color: #174EA6;\n",
              "      --disabled-fill-color: #AAA;\n",
              "      --disabled-bg-color: #DDD;\n",
              "  }\n",
              "\n",
              "  [theme=dark] .colab-df-quickchart {\n",
              "      --bg-color: #3B4455;\n",
              "      --fill-color: #D2E3FC;\n",
              "      --hover-bg-color: #434B5C;\n",
              "      --hover-fill-color: #FFFFFF;\n",
              "      --disabled-bg-color: #3B4455;\n",
              "      --disabled-fill-color: #666;\n",
              "  }\n",
              "\n",
              "  .colab-df-quickchart {\n",
              "    background-color: var(--bg-color);\n",
              "    border: none;\n",
              "    border-radius: 50%;\n",
              "    cursor: pointer;\n",
              "    display: none;\n",
              "    fill: var(--fill-color);\n",
              "    height: 32px;\n",
              "    padding: 0;\n",
              "    width: 32px;\n",
              "  }\n",
              "\n",
              "  .colab-df-quickchart:hover {\n",
              "    background-color: var(--hover-bg-color);\n",
              "    box-shadow: 0 1px 2px rgba(60, 64, 67, 0.3), 0 1px 3px 1px rgba(60, 64, 67, 0.15);\n",
              "    fill: var(--button-hover-fill-color);\n",
              "  }\n",
              "\n",
              "  .colab-df-quickchart-complete:disabled,\n",
              "  .colab-df-quickchart-complete:disabled:hover {\n",
              "    background-color: var(--disabled-bg-color);\n",
              "    fill: var(--disabled-fill-color);\n",
              "    box-shadow: none;\n",
              "  }\n",
              "\n",
              "  .colab-df-spinner {\n",
              "    border: 2px solid var(--fill-color);\n",
              "    border-color: transparent;\n",
              "    border-bottom-color: var(--fill-color);\n",
              "    animation:\n",
              "      spin 1s steps(1) infinite;\n",
              "  }\n",
              "\n",
              "  @keyframes spin {\n",
              "    0% {\n",
              "      border-color: transparent;\n",
              "      border-bottom-color: var(--fill-color);\n",
              "      border-left-color: var(--fill-color);\n",
              "    }\n",
              "    20% {\n",
              "      border-color: transparent;\n",
              "      border-left-color: var(--fill-color);\n",
              "      border-top-color: var(--fill-color);\n",
              "    }\n",
              "    30% {\n",
              "      border-color: transparent;\n",
              "      border-left-color: var(--fill-color);\n",
              "      border-top-color: var(--fill-color);\n",
              "      border-right-color: var(--fill-color);\n",
              "    }\n",
              "    40% {\n",
              "      border-color: transparent;\n",
              "      border-right-color: var(--fill-color);\n",
              "      border-top-color: var(--fill-color);\n",
              "    }\n",
              "    60% {\n",
              "      border-color: transparent;\n",
              "      border-right-color: var(--fill-color);\n",
              "    }\n",
              "    80% {\n",
              "      border-color: transparent;\n",
              "      border-right-color: var(--fill-color);\n",
              "      border-bottom-color: var(--fill-color);\n",
              "    }\n",
              "    90% {\n",
              "      border-color: transparent;\n",
              "      border-bottom-color: var(--fill-color);\n",
              "    }\n",
              "  }\n",
              "</style>\n",
              "\n",
              "  <script>\n",
              "    async function quickchart(key) {\n",
              "      const quickchartButtonEl =\n",
              "        document.querySelector('#' + key + ' button');\n",
              "      quickchartButtonEl.disabled = true;  // To prevent multiple clicks.\n",
              "      quickchartButtonEl.classList.add('colab-df-spinner');\n",
              "      try {\n",
              "        const charts = await google.colab.kernel.invokeFunction(\n",
              "            'suggestCharts', [key], {});\n",
              "      } catch (error) {\n",
              "        console.error('Error during call to suggestCharts:', error);\n",
              "      }\n",
              "      quickchartButtonEl.classList.remove('colab-df-spinner');\n",
              "      quickchartButtonEl.classList.add('colab-df-quickchart-complete');\n",
              "    }\n",
              "    (() => {\n",
              "      let quickchartButtonEl =\n",
              "        document.querySelector('#df-96ab8bae-158b-4da4-aaa8-853f0e672286 button');\n",
              "      quickchartButtonEl.style.display =\n",
              "        google.colab.kernel.accessAllowed ? 'block' : 'none';\n",
              "    })();\n",
              "  </script>\n",
              "</div>\n",
              "    </div>\n",
              "  </div>\n"
            ]
          },
          "metadata": {},
          "execution_count": 61
        }
      ]
    },
    {
      "cell_type": "code",
      "source": [
        "target = 'language'\n",
        "pd.DataFrame.hist(df, figsize=(10,10))"
      ],
      "metadata": {
        "colab": {
          "base_uri": "https://localhost:8080/",
          "height": 992
        },
        "id": "cHooyncD3Nhe",
        "outputId": "e58cc343-fd35-4df5-824b-f14a24423922"
      },
      "execution_count": 62,
      "outputs": [
        {
          "output_type": "execute_result",
          "data": {
            "text/plain": [
              "array([[<Axes: title={'center': 'X1'}>, <Axes: title={'center': 'X2'}>,\n",
              "        <Axes: title={'center': 'X3'}>],\n",
              "       [<Axes: title={'center': 'X4'}>, <Axes: title={'center': 'X5'}>,\n",
              "        <Axes: title={'center': 'X6'}>],\n",
              "       [<Axes: title={'center': 'X7'}>, <Axes: title={'center': 'X8'}>,\n",
              "        <Axes: title={'center': 'X9'}>],\n",
              "       [<Axes: title={'center': 'X10'}>, <Axes: title={'center': 'X11'}>,\n",
              "        <Axes: title={'center': 'X12'}>]], dtype=object)"
            ]
          },
          "metadata": {},
          "execution_count": 62
        },
        {
          "output_type": "display_data",
          "data": {
            "text/plain": [
              "<Figure size 1000x1000 with 12 Axes>"
            ],
            "image/png": "[encoded data removed]"
          },
          "metadata": {}
        }
      ]
    },
    {
      "cell_type": "code",
      "source": [
        "sns.histplot(df['language'])"
      ],
      "metadata": {
        "colab": {
          "base_uri": "https://localhost:8080/",
          "height": 466
        },
        "id": "6nqYfjOT4Koc",
        "outputId": "e9c73002-8630-450d-cac9-213cfe1365f4"
      },
      "execution_count": 63,
      "outputs": [
        {
          "output_type": "execute_result",
          "data": {
            "text/plain": [
              "<Axes: xlabel='language', ylabel='Count'>"
            ]
          },
          "metadata": {},
          "execution_count": 63
        },
        {
          "output_type": "display_data",
          "data": {
            "text/plain": [
              "<Figure size 640x480 with 1 Axes>"
            ],
            "image/png": "[encoded data removed]"
          },
          "metadata": {}
        }
      ]
    },
    {
      "cell_type": "markdown",
      "source": [
        "##2. Drop the rows with NaN values, if any, show the shape of the dataset after this cleaning (4pt)"
      ],
      "metadata": {
        "id": "17g-Soey43kb"
      }
    },
    {
      "cell_type": "code",
      "source": [
        "initial_rows = df.shape[0]\n",
        "df = df.dropna()\n",
        "print('Removed {} rows with null values, new dataset shape is {}'.format(initial_rows - df.shape[0], df.shape))"
      ],
      "metadata": {
        "colab": {
          "base_uri": "https://localhost:8080/"
        },
        "id": "n0Y6pfMd46uD",
        "outputId": "2b9534d9-0095-4ead-c0b4-16296b5c20f4"
      },
      "execution_count": 64,
      "outputs": [
        {
          "output_type": "stream",
          "name": "stdout",
          "text": [
            "Removed 8 rows with null values, new dataset shape is (321, 13)\n"
          ]
        }
      ]
    },
    {
      "cell_type": "markdown",
      "source": [
        "##3. Tune the hyper–parameters of Model1 with Cross Validation on the training set, optimize for recall_macro (5pt)"
      ],
      "metadata": {
        "id": "Nx_drmk25bYb"
      }
    },
    {
      "cell_type": "markdown",
      "source": [
        "I choose to use Decision Tree as Model1"
      ],
      "metadata": {
        "id": "vw0b-rtRxHCy"
      }
    },
    {
      "cell_type": "code",
      "source": [
        "from sklearn.model_selection import GridSearchCV, train_test_split\n",
        "from sklearn.tree import DecisionTreeClassifier\n",
        "from sklearn.metrics import accuracy_score, classification_report\n",
        "\n",
        "target = 'language'\n",
        "X = df.drop(target, axis=1).copy()\n",
        "y = df[target]\n",
        "\n",
        "Xtrain, Xtest, ytrain, ytest = train_test_split(X, y, train_size=train_size, random_state=random_state)\n",
        "\n",
        "dt = DecisionTreeClassifier(random_state=random_state)\n",
        "dt.fit(Xtrain, ytrain)\n",
        "\n",
        "tuned_params_dt = [{'max_depth' : list(np.arange(1, dt.tree_.max_depth+1)), 'random_state' : [random_state]}]\n",
        "gs1 = GridSearchCV(dt , tuned_params_dt , scoring = 'recall_macro', refit=True)\n",
        "gs1.fit(Xtrain, ytrain)\n",
        "tuned_params_dt"
      ],
      "metadata": {
        "colab": {
          "base_uri": "https://localhost:8080/"
        },
        "id": "TntQ5S3E5nkT",
        "outputId": "c40ba997-8809-482e-b343-2b288db1d70b"
      },
      "execution_count": 65,
      "outputs": [
        {
          "output_type": "execute_result",
          "data": {
            "text/plain": [
              "[{'max_depth': [1, 2, 3, 4, 5, 6, 7, 8, 9, 10], 'random_state': [42]}]"
            ]
          },
          "metadata": {},
          "execution_count": 65
        }
      ]
    },
    {
      "cell_type": "markdown",
      "source": [
        "##4. Produce a classification report for Model1 on the test set (2pt)"
      ],
      "metadata": {
        "id": "RWOWyZ1Yu-YE"
      }
    },
    {
      "cell_type": "code",
      "source": [
        "y_gs1 = gs1.predict(Xtest)\n",
        "\n",
        "print('Best max depth for Decision Tree is {}'.format(gs1.best_params_['max_depth']))\n",
        "print('Accuracy score on test set: {:.2f}%'.format(accuracy_score(ytest,y_gs1) * 100))\n",
        "print(classification_report(ytest, y_gs1))"
      ],
      "metadata": {
        "colab": {
          "base_uri": "https://localhost:8080/"
        },
        "id": "S_Tg59ervJQF",
        "outputId": "d076478a-ab32-488f-80d6-6ff0aaac77d2"
      },
      "execution_count": 66,
      "outputs": [
        {
          "output_type": "stream",
          "name": "stdout",
          "text": [
            "Best max depth for Decision Tree is 9\n",
            "Accuracy score on test set: 63.21%\n",
            "              precision    recall  f1-score   support\n",
            "\n",
            "          ES       0.54      0.70      0.61        10\n",
            "          FR       0.58      0.70      0.64        10\n",
            "          GE       0.31      0.36      0.33        11\n",
            "          IT       0.46      0.55      0.50        11\n",
            "          UK       0.75      0.46      0.57        13\n",
            "          US       0.79      0.73      0.76        51\n",
            "\n",
            "    accuracy                           0.63       106\n",
            "   macro avg       0.57      0.58      0.57       106\n",
            "weighted avg       0.66      0.63      0.64       106\n",
            "\n"
          ]
        }
      ]
    },
    {
      "cell_type": "markdown",
      "source": [
        "##5. Produce the confusion matrix for Model1 on the test set (2pt)"
      ],
      "metadata": {
        "id": "lbtixFGdxQMS"
      }
    },
    {
      "cell_type": "code",
      "source": [
        "from sklearn.metrics import confusion_matrix, ConfusionMatrixDisplay\n",
        "\n",
        "cm = confusion_matrix(ytest, y_gs1)\n",
        "CMD = ConfusionMatrixDisplay(cm, display_labels=['ES', 'FR', 'GE', 'IT', 'UK', 'US'])\n",
        "CMD.plot()"
      ],
      "metadata": {
        "colab": {
          "base_uri": "https://localhost:8080/",
          "height": 466
        },
        "id": "lCsbePdgxS0C",
        "outputId": "f8942238-0a9e-46f2-820a-6257c17c0492"
      },
      "execution_count": 67,
      "outputs": [
        {
          "output_type": "execute_result",
          "data": {
            "text/plain": [
              "<sklearn.metrics._plot.confusion_matrix.ConfusionMatrixDisplay at 0x7f03cac76a70>"
            ]
          },
          "metadata": {},
          "execution_count": 67
        },
        {
          "output_type": "display_data",
          "data": {
            "text/plain": [
              "<Figure size 640x480 with 2 Axes>"
            ],
            "image/png": "[encoded data removed]"
          },
          "metadata": {}
        }
      ]
    },
    {
      "cell_type": "markdown",
      "source": [
        "##6. Tune the hyper–parameters of Model2 with Cross Validation on the training set, optimize for recall_macro (5pt)"
      ],
      "metadata": {
        "id": "XSMk6gc-zQ7p"
      }
    },
    {
      "cell_type": "code",
      "source": [
        "from sklearn.neighbors import KNeighborsClassifier\n",
        "\n",
        "km_params = [{'n_neighbors' : list(np.arange(1,15))}]\n",
        "km = KNeighborsClassifier()\n",
        "\n",
        "gs2 = GridSearchCV(km, km_params, scoring='recall_macro', refit=True)\n",
        "gs2.fit(Xtrain, ytrain)\n",
        "km_params"
      ],
      "metadata": {
        "colab": {
          "base_uri": "https://localhost:8080/"
        },
        "id": "QPH-nVVGzQUp",
        "outputId": "fa92bf8e-bb7f-4330-e992-41608151f1a8"
      },
      "execution_count": 68,
      "outputs": [
        {
          "output_type": "execute_result",
          "data": {
            "text/plain": [
              "[{'n_neighbors': [1, 2, 3, 4, 5, 6, 7, 8, 9, 10, 11, 12, 13, 14]}]"
            ]
          },
          "metadata": {},
          "execution_count": 68
        }
      ]
    },
    {
      "cell_type": "markdown",
      "source": [
        "##7. Produce a classification report for Model2 on the test set (1pt)\n"
      ],
      "metadata": {
        "id": "Ktj6-XRG09vY"
      }
    },
    {
      "cell_type": "code",
      "source": [
        "y_gs2 = gs2.predict(Xtest)\n",
        "print('K-neighbors best n_neighbors: {}'.format(gs2.best_params_['n_neighbors']))\n",
        "print('Accuracy score: {:.2f}%'.format(accuracy_score(ytest, y_gs2) * 100))\n",
        "print(classification_report(ytest, y_gs2))"
      ],
      "metadata": {
        "colab": {
          "base_uri": "https://localhost:8080/"
        },
        "id": "in3zXk2D1IXT",
        "outputId": "6eba79d4-23fc-4561-9829-4ff1b942bae8"
      },
      "execution_count": 69,
      "outputs": [
        {
          "output_type": "stream",
          "name": "stdout",
          "text": [
            "K-neighbors best n_neighbors: 1\n",
            "Accuracy score: 83.96%\n",
            "              precision    recall  f1-score   support\n",
            "\n",
            "          ES       0.89      0.80      0.84        10\n",
            "          FR       0.80      0.80      0.80        10\n",
            "          GE       0.77      0.91      0.83        11\n",
            "          IT       0.89      0.73      0.80        11\n",
            "          UK       0.73      0.62      0.67        13\n",
            "          US       0.87      0.92      0.90        51\n",
            "\n",
            "    accuracy                           0.84       106\n",
            "   macro avg       0.82      0.80      0.81       106\n",
            "weighted avg       0.84      0.84      0.84       106\n",
            "\n"
          ]
        }
      ]
    },
    {
      "cell_type": "markdown",
      "source": [
        "##8. Produce the confusion matrix for Model2 on the test set (1pt)"
      ],
      "metadata": {
        "id": "Xq86q4Qm1CRO"
      }
    },
    {
      "cell_type": "code",
      "source": [
        "cm = confusion_matrix(ytest, y_gs2)\n",
        "CMD = ConfusionMatrixDisplay(cm, display_labels=['ES', 'FR', 'GE', 'IT', 'UK', 'US'])\n",
        "CMD.plot()"
      ],
      "metadata": {
        "colab": {
          "base_uri": "https://localhost:8080/",
          "height": 466
        },
        "id": "dRCFSP5-25bt",
        "outputId": "4c23660c-9530-430b-c07c-1733f3aee990"
      },
      "execution_count": 70,
      "outputs": [
        {
          "output_type": "execute_result",
          "data": {
            "text/plain": [
              "<sklearn.metrics._plot.confusion_matrix.ConfusionMatrixDisplay at 0x7f03c3c703a0>"
            ]
          },
          "metadata": {},
          "execution_count": 70
        },
        {
          "output_type": "display_data",
          "data": {
            "text/plain": [
              "<Figure size 640x480 with 2 Axes>"
            ],
            "image/png": "[encoded data removed]"
          },
          "metadata": {}
        }
      ]
    }
  ]
}